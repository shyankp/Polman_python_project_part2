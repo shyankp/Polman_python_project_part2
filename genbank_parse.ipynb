{
 "cells": [
  {
   "cell_type": "code",
   "execution_count": null,
   "id": "d31a9a26-db58-4c35-8707-fe112c7015cf",
   "metadata": {},
   "outputs": [],
   "source": [
    "## Biopython Exercise 1: Parse Genbank files"
   ]
  },
  {
   "cell_type": "code",
   "execution_count": 1,
   "id": "bd48856e-beb6-4005-9213-8bdd5fbfceff",
   "metadata": {},
   "outputs": [],
   "source": [
    "from Bio import SeqIO\n",
    "from Bio.SeqRecord import SeqRecord\n",
    "import csv\n",
    "\n",
    "\n",
    "\n",
    "def parse_genbank(gb_files, outputfile):\n",
    "#Write it to a csv\n",
    "    with open('gb_parse.csv', 'w', newline='') as csvfile:\n",
    "        csvwriter = csv.writer(csvfile)\n",
    "        #Makes the titles of columns\n",
    "        csvwriter.writerow([\"Accession\", \"Family\", \"Genus\", \"Species\", \"Num_Features\", \"Source\"])\n",
    "\n",
    "        #Parse the GenBank file\n",
    "        for gb_file in gb_files:\n",
    "            for seq_record in SeqIO.parse(gb_file, \"genbank\"):\n",
    "                accession = seq_record.id\n",
    "                taxonomy = seq_record.annotations['taxonomy']\n",
    "                family = taxonomy[-1]\n",
    "                genus = taxonomy[1]\n",
    "                species = taxonomy[-2]\n",
    "                num_features = len(seq_record.features)\n",
    "                source = seq_record.annotations['source']\n",
    "\n",
    "                #Add all the info to csv\n",
    "                csvwriter.writerow([accession, family, genus, species, num_features, source])\n",
    "            \n",
    "\n",
    "gb_files = [\"NZ_BHVZ01000001.1.gb\", \"NZ_CAJTFZ010000019.1.gb\",\"NZ_CALPCP010000001.1.gb\",\"NZ_CALPCY010000130.1.gb\",\"NZ_SRYA01000017.1.gb\"] \n",
    "outputfile = \"gb_parse.csv\"\n",
    "parse_genbank(gb_files, outputfile)\n"
   ]
  },
  {
   "cell_type": "code",
   "execution_count": null,
   "id": "b0baff88",
   "metadata": {},
   "outputs": [],
   "source": []
  }
 ],
 "metadata": {
  "kernelspec": {
   "display_name": "Python 3 (ipykernel)",
   "language": "python",
   "name": "python3"
  },
  "language_info": {
   "codemirror_mode": {
    "name": "ipython",
    "version": 3
   },
   "file_extension": ".py",
   "mimetype": "text/x-python",
   "name": "python",
   "nbconvert_exporter": "python",
   "pygments_lexer": "ipython3",
   "version": "3.11.6"
  }
 },
 "nbformat": 4,
 "nbformat_minor": 5
}
