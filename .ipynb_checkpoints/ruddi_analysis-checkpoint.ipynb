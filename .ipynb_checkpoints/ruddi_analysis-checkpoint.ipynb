{
 "cells": [
  {
   "cell_type": "code",
   "execution_count": null,
   "id": "8b6cf59b",
   "metadata": {},
   "outputs": [],
   "source": [
    "## Biopython Exercise 3: Analyze a genome"
   ]
  },
  {
   "cell_type": "code",
   "execution_count": 3,
   "id": "5a2027ba",
   "metadata": {},
   "outputs": [],
   "source": [
    "from Bio import SeqIO\n",
    "from Bio.SeqRecord import SeqRecord\n",
    "import csv\n",
    "\n",
    "\n",
    "\n",
    "def ruddi(genome_files, output_file):\n",
    "#Write it to a csv\n",
    "    with open('ruddi_analysis.csv', 'w', newline='') as csvfile:\n",
    "        csvwriter = csv.writer(csvfile)\n",
    "        #Makes the titles of columns\n",
    "        csvwriter.writerow([\"Length of Genome\", \"GC_Content\", \"ATG_forward\", \"ATG_reverse\"])\n",
    "        \n",
    "        \n",
    "        #Parse the genome file\n",
    "        for genome_file in genome_files:\n",
    "            for seq_record in SeqIO.parse(genome_file, \"fasta\"):\n",
    "                #Length of Genome\n",
    "                genome_length = len(seq_record.seq)\n",
    "            \n",
    "                #Calculate GC Content\n",
    "                gc_count = seq_record.seq.count('G') + seq_record.seq.count('C')\n",
    "                gc_percentage = (gc_count / genome_length) * 100\n",
    "            \n",
    "                #Count ATG in Fwd Strand\n",
    "                ATG_fwd = seq_record.seq.count('ATG')\n",
    "            \n",
    "                #Count ATG in Rev Strand\n",
    "                reverse_sequence = seq_record.seq.reverse_complement()\n",
    "                ATG_rev = reverse_sequence.count('ATG')\n",
    "            \n",
    "                #Add all the info to csv\n",
    "                csvwriter.writerow([genome_length, gc_percentage, ATG_fwd, ATG_rev])\n",
    "            \n",
    "\n",
    "genome_files = [\"GCA_000287275.1_ASM28727v1_genomic.fna\"] \n",
    "output_file = \"ruddi_analysis.csv\"\n",
    "ruddi(genome_files, output_file)\n",
    "        \n",
    "        "
   ]
  }
 ],
 "metadata": {
  "kernelspec": {
   "display_name": "Python 3 (ipykernel)",
   "language": "python",
   "name": "python3"
  },
  "language_info": {
   "codemirror_mode": {
    "name": "ipython",
    "version": 3
   },
   "file_extension": ".py",
   "mimetype": "text/x-python",
   "name": "python",
   "nbconvert_exporter": "python",
   "pygments_lexer": "ipython3",
   "version": "3.11.6"
  }
 },
 "nbformat": 4,
 "nbformat_minor": 5
}
