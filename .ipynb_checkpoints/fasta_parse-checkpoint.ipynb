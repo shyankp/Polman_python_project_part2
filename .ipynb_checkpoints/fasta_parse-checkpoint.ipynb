{
 "cells": [
  {
   "cell_type": "code",
   "execution_count": null,
   "id": "bd7e5363",
   "metadata": {},
   "outputs": [],
   "source": [
    "## Biopython Exercise 2: Fasta fun with proteins"
   ]
  },
  {
   "cell_type": "code",
   "execution_count": 1,
   "id": "84688a07",
   "metadata": {},
   "outputs": [],
   "source": [
    "from Bio import SeqIO\n",
    "from Bio.SeqRecord import SeqRecord\n",
    "import csv\n",
    "\n",
    "\n",
    "\n",
    "def parse_fasta(fasta_files, output_file):\n",
    "#Write it to a csv\n",
    "    with open('fasta_parse.csv', 'w', newline='') as csvfile:\n",
    "        csvwriter = csv.writer(csvfile)\n",
    "        #Makes the titles of columns\n",
    "        csvwriter.writerow([\"ID\", \"First_10_AA\", \"Length\", \"Number_Cs\"])\n",
    "        \n",
    "        #Parse the Fasta file\n",
    "        for fasta_file in fasta_files:\n",
    "            for seq_record in SeqIO.parse(fasta_file, \"fasta\"):\n",
    "                ID = seq_record.id\n",
    "                first10aa = str(seq_record.seq[:10])\n",
    "                length = len(seq_record.seq)\n",
    "                number_cs = seq_record.seq.count('C')\n",
    "            \n",
    "                #Add all the info to csv\n",
    "                csvwriter.writerow([ID, first10aa, length, number_cs])\n",
    "            \n",
    "\n",
    "fasta_files = [\"AGI40145.1.fasta\", \"AGJ87295.1.fasta\",\"WVS05366.1.fasta\",\"WVV45440.1.fasta\"] \n",
    "output_file = \"fasta_parse.csv\"\n",
    "parse_fasta(fasta_files, output_file)\n"
   ]
  },
  {
   "cell_type": "code",
   "execution_count": null,
   "id": "9b7ebb8a",
   "metadata": {},
   "outputs": [],
   "source": []
  }
 ],
 "metadata": {
  "kernelspec": {
   "display_name": "Python 3 (ipykernel)",
   "language": "python",
   "name": "python3"
  },
  "language_info": {
   "codemirror_mode": {
    "name": "ipython",
    "version": 3
   },
   "file_extension": ".py",
   "mimetype": "text/x-python",
   "name": "python",
   "nbconvert_exporter": "python",
   "pygments_lexer": "ipython3",
   "version": "3.11.6"
  }
 },
 "nbformat": 4,
 "nbformat_minor": 5
}
